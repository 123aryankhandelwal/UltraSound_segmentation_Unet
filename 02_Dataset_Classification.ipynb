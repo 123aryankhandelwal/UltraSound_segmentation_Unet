{
 "cells": [
  {
   "cell_type": "code",
   "execution_count": 6,
   "metadata": {},
   "outputs": [],
   "source": [
    "# Requirements\n",
    "import os\n",
    "import numpy as np\n",
    "import SimpleITK as sitk\n",
    "import h5py\n",
    "import cv2"
   ]
  },
  {
   "cell_type": "code",
   "execution_count": 1,
   "metadata": {},
   "outputs": [],
   "source": [
    "train_path=r'/home/kanji/Desktop/Charlie/Projects/Ultrasound_Segmentation/CAMUS/Training';"
   ]
  },
  {
   "cell_type": "code",
   "execution_count": 2,
   "metadata": {},
   "outputs": [],
   "source": [
    "# Load the training data for 2CH\n",
    "train_2ch_frames_list=[]\n",
    "for i in os.listdir(train_path):\n",
    "    ppath=os.path.join(train_path,i)\n",
    "    for j in os.listdir(ppath):\n",
    "        if \"gt\" in j:\n",
    "            continue\n",
    "        elif \"2CH\" in j:\n",
    "            img_path=os.path.join(ppath,j)\n",
    "            train_2ch_frames_list.append(img_path)"
   ]
  },
  {
   "cell_type": "code",
   "execution_count": 3,
   "metadata": {},
   "outputs": [],
   "source": [
    "# Load the training data for 4CH\n",
    "train_4ch_frames_list=[]\n",
    "for i in os.listdir(train_path):\n",
    "    ppath=os.path.join(train_path,i)\n",
    "    for j in os.listdir(ppath):\n",
    "        if \"gt\" in j:\n",
    "            continue\n",
    "        elif \"4CH\" in j:\n",
    "            img_path=os.path.join(ppath,j)\n",
    "            train_4ch_frames_list.append(img_path)"
   ]
  },
  {
   "cell_type": "code",
   "execution_count": 4,
   "metadata": {},
   "outputs": [],
   "source": [
    "# Load the training Fround data data for 2CH\n",
    "train_2ch_mask_list=[]\n",
    "for i in os.listdir(train_path):\n",
    "    ppath=os.path.join(train_path,i)\n",
    "    # print(ppath)\n",
    "    for j in os.listdir(ppath):\n",
    "        if \"gt\" in j:\n",
    "            if \"2CH\" in j:\n",
    "                img_path=os.path.join(ppath,j)\n",
    "                train_2ch_mask_list.append(img_path)\n"
   ]
  },
  {
   "cell_type": "code",
   "execution_count": 5,
   "metadata": {},
   "outputs": [],
   "source": [
    "# Load the training Fround data data for 4CH\n",
    "train_4ch_mask_list=[]\n",
    "for i in os.listdir(train_path):\n",
    "    ppath=os.path.join(train_path,i)\n",
    "    # print(ppath)\n",
    "    for j in os.listdir(ppath):\n",
    "        if \"gt\" in j:\n",
    "            if \"4CH\" in j:\n",
    "                img_path=os.path.join(ppath,j)\n",
    "                train_4ch_mask_list.append(img_path)"
   ]
  },
  {
   "cell_type": "code",
   "execution_count": 7,
   "metadata": {},
   "outputs": [
    {
     "data": {
      "text/plain": [
       "800"
      ]
     },
     "execution_count": 7,
     "metadata": {},
     "output_type": "execute_result"
    }
   ],
   "source": [
    "len(train_4ch_frames_list)"
   ]
  },
  {
   "cell_type": "code",
   "execution_count": 8,
   "metadata": {},
   "outputs": [
    {
     "data": {
      "text/plain": [
       "800"
      ]
     },
     "execution_count": 8,
     "metadata": {},
     "output_type": "execute_result"
    }
   ],
   "source": [
    "len(train_4ch_mask_list)"
   ]
  },
  {
   "cell_type": "code",
   "execution_count": 9,
   "metadata": {},
   "outputs": [
    {
     "data": {
      "text/plain": [
       "800"
      ]
     },
     "execution_count": 9,
     "metadata": {},
     "output_type": "execute_result"
    }
   ],
   "source": [
    "len(train_2ch_mask_list)"
   ]
  },
  {
   "cell_type": "code",
   "execution_count": 11,
   "metadata": {},
   "outputs": [],
   "source": [
    "#PNG to Array\n",
    "def png_to_array(path):\n",
    "    return sitk.GetArrayFromImage(sitk.ReadImage(path, sitk.sitkFloat32))"
   ]
  },
  {
   "cell_type": "code",
   "execution_count": 10,
   "metadata": {},
   "outputs": [],
   "source": [
    "file_name=r'Dataset_list/train_image_dataset.hdf5'\n",
    "f = h5py.File(file_name, \"w\")"
   ]
  },
  {
   "cell_type": "code",
   "execution_count": 12,
   "metadata": {},
   "outputs": [
    {
     "data": {
      "text/plain": [
       "<HDF5 dataset \"train 4ch masks\": shape (800, 256, 256, 1), type \"<i4\">"
      ]
     },
     "execution_count": 12,
     "metadata": {},
     "output_type": "execute_result"
    }
   ],
   "source": [
    "f.create_dataset(\"train 2ch frames\", (800, 256, 256, 1),\n",
    "                chunks = (4, 256, 256, 1), dtype = \"float32\")\n",
    "\n",
    "f.create_dataset(\"train 2ch masks\", (800, 256, 256 , 1),\n",
    "                chunks = (4, 256, 256, 1), dtype = \"int32\")\n",
    "\n",
    "f.create_dataset(\"train 4ch frames\", (800, 256, 256, 1),\n",
    "                chunks = (4, 256, 256, 1), dtype = \"float32\")\n",
    "\n",
    "f.create_dataset(\"train 4ch masks\", (800,256, 256, 1),\n",
    "                chunks = (4, 256, 256, 1), dtype = \"int32\")"
   ]
  },
  {
   "cell_type": "code",
   "execution_count": 13,
   "metadata": {},
   "outputs": [],
   "source": [
    "#Appending array of images to h5py file\n",
    "j = 0\n",
    "for i in train_2ch_frames_list:\n",
    "    array = png_to_array(i)\n",
    "    new_array = cv2.resize(array, dsize=(256,256), interpolation=cv2.INTER_CUBIC)\n",
    "    new_array = np.reshape(new_array,(256,256,1))\n",
    "    new_array = new_array/255\n",
    "    f[\"train 2ch frames\"][j,...] = new_array[...]\n",
    "    j = j + 1"
   ]
  },
  {
   "cell_type": "code",
   "execution_count": 14,
   "metadata": {},
   "outputs": [],
   "source": [
    "j = 0\n",
    "for i in train_4ch_frames_list:\n",
    "    array = png_to_array(i)\n",
    "    new_array = cv2.resize(array, dsize=(256,256), interpolation=cv2.INTER_CUBIC)\n",
    "    new_array = np.reshape(new_array,(256,256,1))\n",
    "    new_array = new_array/255\n",
    "    f[\"train 4ch frames\"][j,...] = new_array[...]\n",
    "    j = j + 1"
   ]
  },
  {
   "cell_type": "code",
   "execution_count": 23,
   "metadata": {},
   "outputs": [],
   "source": [
    "j = 0\n",
    "for i in train_2ch_mask_list:\n",
    "    array = png_to_array(i)\n",
    "    new_array = cv2.resize(array, dsize=(256,256), interpolation=cv2.INTER_CUBIC)\n",
    "    new_array = np.reshape(new_array,(256,256,1))\n",
    "    new_array = new_array/255\n",
    "    f[\"train 2ch masks\"][j,...] = new_array[...]\n",
    "    j = j + 1"
   ]
  },
  {
   "cell_type": "code",
   "execution_count": 15,
   "metadata": {},
   "outputs": [],
   "source": [
    "j = 0\n",
    "for i in train_4ch_mask_list:\n",
    "    array = png_to_array(i)\n",
    "    new_array = cv2.resize(array, dsize=(256,256), interpolation=cv2.INTER_CUBIC)\n",
    "    new_array = np.reshape(new_array,(256,256,1))\n",
    "    new_array = new_array/255\n",
    "    f[\"train 4ch masks\"][j,...] = new_array[...]\n",
    "    j = j + 1"
   ]
  },
  {
   "cell_type": "code",
   "execution_count": 16,
   "metadata": {},
   "outputs": [],
   "source": [
    "f.close()"
   ]
  },
  {
   "cell_type": "code",
   "execution_count": 17,
   "metadata": {},
   "outputs": [],
   "source": [
    "test_path=r'CAMUS/Testing';"
   ]
  },
  {
   "cell_type": "code",
   "execution_count": 18,
   "metadata": {},
   "outputs": [],
   "source": [
    "def png_to_array(path):\n",
    "    return sitk.GetArrayFromImage(sitk.ReadImage(path, sitk.sitkFloat32))"
   ]
  },
  {
   "cell_type": "code",
   "execution_count": 21,
   "metadata": {},
   "outputs": [],
   "source": [
    "# Load the testing data for 4CH\n",
    "test_4ch_frames_list=[]\n",
    "for i in os.listdir(test_path):\n",
    "    ppath=os.path.join(test_path,i)\n",
    "    for j in os.listdir(ppath):\n",
    "        if \"gt\" in j: \n",
    "            continue\n",
    "        if \"4CH\" in j:\n",
    "            img_path=os.path.join(ppath,j)\n",
    "            test_4ch_frames_list.append(img_path)"
   ]
  },
  {
   "cell_type": "code",
   "execution_count": 22,
   "metadata": {},
   "outputs": [
    {
     "data": {
      "text/plain": [
       "100"
      ]
     },
     "execution_count": 22,
     "metadata": {},
     "output_type": "execute_result"
    }
   ],
   "source": [
    "len(test_4ch_frames_list)"
   ]
  },
  {
   "cell_type": "code",
   "execution_count": 23,
   "metadata": {},
   "outputs": [],
   "source": [
    "# Load the testing data for 2CH\n",
    "test_4chgt_frames_list=[]\n",
    "for i in os.listdir(test_path):\n",
    "    ppath=os.path.join(test_path,i)\n",
    "    for j in os.listdir(ppath):\n",
    "        if \"gt\" in j:\n",
    "            if \"4CH\" in j:\n",
    "                img_path=os.path.join(ppath,j)\n",
    "                test_4chgt_frames_list.append(img_path)"
   ]
  },
  {
   "cell_type": "code",
   "execution_count": 24,
   "metadata": {},
   "outputs": [
    {
     "data": {
      "text/plain": [
       "100"
      ]
     },
     "execution_count": 24,
     "metadata": {},
     "output_type": "execute_result"
    }
   ],
   "source": [
    "len(test_4chgt_frames_list)"
   ]
  },
  {
   "cell_type": "code",
   "execution_count": 25,
   "metadata": {},
   "outputs": [],
   "source": [
    "f1 = h5py.File(\"Dataset_list/image_test_dataset.hdf5\", \"w\")"
   ]
  },
  {
   "cell_type": "code",
   "execution_count": 26,
   "metadata": {},
   "outputs": [
    {
     "data": {
      "text/plain": [
       "<HDF5 dataset \"test 4chgt frames\": shape (100, 256, 256, 1), type \"<f4\">"
      ]
     },
     "execution_count": 26,
     "metadata": {},
     "output_type": "execute_result"
    }
   ],
   "source": [
    "\n",
    "f1.create_dataset(\"test 4ch frames\", (100, 256, 256, 1),\n",
    "                chunks = (4, 256, 256, 1), dtype = \"float32\")\n",
    "\n",
    "f1.create_dataset(\"test 4chgt frames\", (100, 256, 256, 1),\n",
    "                chunks = (4, 256, 256, 1), dtype = \"float32\")"
   ]
  },
  {
   "cell_type": "code",
   "execution_count": 27,
   "metadata": {},
   "outputs": [],
   "source": [
    "\n",
    "j = 0\n",
    "for i in test_4ch_frames_list:\n",
    "    array = png_to_array(i)\n",
    "    new_array = cv2.resize(array, dsize=(256,256), interpolation=cv2.INTER_CUBIC)\n",
    "    new_array = np.reshape(new_array,(256,256,1))\n",
    "    new_array = new_array/255\n",
    "    f1[\"test 4ch frames\"][j,...] = new_array[...]\n",
    "    j = j + 1"
   ]
  },
  {
   "cell_type": "code",
   "execution_count": 28,
   "metadata": {},
   "outputs": [],
   "source": [
    "j = 0\n",
    "for i in test_4chgt_frames_list:\n",
    "    array = png_to_array(i)\n",
    "    new_array = cv2.resize(array, dsize=(256,256), interpolation=cv2.INTER_CUBIC)\n",
    "    new_array = np.reshape(new_array,(256,256,1))\n",
    "    new_array = new_array/255\n",
    "    f1[\"test 4chgt frames\"][j,...] = new_array[...]\n",
    "    j = j + 1"
   ]
  },
  {
   "cell_type": "code",
   "execution_count": 29,
   "metadata": {},
   "outputs": [],
   "source": [
    "\n",
    "f1.close()"
   ]
  },
  {
   "cell_type": "code",
   "execution_count": null,
   "metadata": {},
   "outputs": [],
   "source": []
  }
 ],
 "metadata": {
  "kernelspec": {
   "display_name": "Python 3.10.4 64-bit",
   "language": "python",
   "name": "python3"
  },
  "language_info": {
   "codemirror_mode": {
    "name": "ipython",
    "version": 3
   },
   "file_extension": ".py",
   "mimetype": "text/x-python",
   "name": "python",
   "nbconvert_exporter": "python",
   "pygments_lexer": "ipython3",
   "version": "3.10.4"
  },
  "orig_nbformat": 4,
  "vscode": {
   "interpreter": {
    "hash": "916dbcbb3f70747c44a77c7bcd40155683ae19c65e1c03b4aa3499c5328201f1"
   }
  }
 },
 "nbformat": 4,
 "nbformat_minor": 2
}
